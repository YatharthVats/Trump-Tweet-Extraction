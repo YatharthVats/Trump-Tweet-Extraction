{
 "cells": [
  {
   "cell_type": "markdown",
   "metadata": {},
   "source": [
    "# Extracting tweets from POTUS twitter handle"
   ]
  },
  {
   "cell_type": "code",
   "execution_count": 1,
   "metadata": {},
   "outputs": [],
   "source": [
    "# Import necessary Python libraries and files\n",
    "\n",
    "from Credentials import *\n",
    "import tweepy\n",
    "import json"
   ]
  },
  {
   "cell_type": "code",
   "execution_count": 2,
   "metadata": {},
   "outputs": [],
   "source": [
    "userID = \"POTUS\"  #User ID from which tweets are extracted"
   ]
  },
  {
   "cell_type": "code",
   "execution_count": 3,
   "metadata": {
    "scrolled": true
   },
   "outputs": [
    {
     "name": "stdout",
     "output_type": "stream",
     "text": [
      "N of tweets downloaded till now 400\n",
      "N of tweets downloaded till now 600\n",
      "N of tweets downloaded till now 800\n",
      "N of tweets downloaded till now 1000\n",
      "N of tweets downloaded till now 1200\n",
      "N of tweets downloaded till now 1400\n",
      "N of tweets downloaded till now 1600\n",
      "N of tweets downloaded till now 1800\n",
      "N of tweets downloaded till now 2000\n",
      "N of tweets downloaded till now 2200\n",
      "N of tweets downloaded till now 2400\n",
      "N of tweets downloaded till now 2600\n",
      "N of tweets downloaded till now 2800\n",
      "N of tweets downloaded till now 3000\n",
      "N of tweets downloaded till now 3200\n",
      "N of tweets downloaded till now 3246\n"
     ]
    }
   ],
   "source": [
    "#First step is to authenticate ourselves with Twitter API using the credentials\n",
    "\n",
    "auth = tweepy.OAuthHandler(CONSUMER_KEY, CONSUMER_SECRET)\n",
    "auth.set_access_token(ACCESS_TOKEN, ACCESS_TOKEN_SECRET)\n",
    "api = tweepy.API(auth)\n",
    "\n",
    "#api.user_timeline returns 20 most recent statuses, including retweets, posted by the user\n",
    "\n",
    "tweets = api.user_timeline(screen_name=userID, \n",
    "                           count=200,\n",
    "                           tweet_mode = 'extended'\n",
    "                           # Necessary to keep full_text \n",
    "                           # otherwise only the first 140 words are extracted\n",
    "                           )\n",
    "\n",
    "all_tweets = []   #List of all the tweets that would be extracted\n",
    "all_tweets.extend(tweets)\n",
    "oldest_id = tweets[-1].id\n",
    "while True:\n",
    "    tweets = api.user_timeline(screen_name=userID, \n",
    "                           count=200,\n",
    "                           max_id = oldest_id - 1,\n",
    "                           tweet_mode = 'extended')\n",
    "    if len(tweets) == 0:\n",
    "        break\n",
    "    oldest_id = tweets[-1].id\n",
    "    all_tweets.extend(tweets)\n",
    "    print('N of tweets downloaded till now {}'.format(len(all_tweets)))"
   ]
  },
  {
   "cell_type": "code",
   "execution_count": 4,
   "metadata": {},
   "outputs": [
    {
     "name": "stdout",
     "output_type": "stream",
     "text": [
      "3246\n"
     ]
    }
   ],
   "source": [
    "print(len(all_tweets))"
   ]
  },
  {
   "cell_type": "code",
   "execution_count": 5,
   "metadata": {},
   "outputs": [],
   "source": [
    "# Create a dictionary from the tweet list for creating a JSON file\n",
    "\n",
    "all_tweets_dict={i:all_tweets[i]._json for i in range(0,len(all_tweets))}"
   ]
  },
  {
   "cell_type": "code",
   "execution_count": 6,
   "metadata": {},
   "outputs": [],
   "source": [
    "# Creating a JSON file and dumping the data\n",
    "\n",
    "with open('data.json', 'w') as f:\n",
    "    json.dump(all_tweets_dict, f,indent=4)"
   ]
  },
  {
   "cell_type": "code",
   "execution_count": null,
   "metadata": {},
   "outputs": [],
   "source": []
  }
 ],
 "metadata": {
  "kernelspec": {
   "display_name": "Python 3",
   "language": "python",
   "name": "python3"
  },
  "language_info": {
   "codemirror_mode": {
    "name": "ipython",
    "version": 3
   },
   "file_extension": ".py",
   "mimetype": "text/x-python",
   "name": "python",
   "nbconvert_exporter": "python",
   "pygments_lexer": "ipython3",
   "version": "3.7.4"
  }
 },
 "nbformat": 4,
 "nbformat_minor": 2
}
