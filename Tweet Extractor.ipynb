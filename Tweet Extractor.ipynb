{
 "cells": [
  {
   "cell_type": "code",
   "execution_count": 1,
   "metadata": {},
   "outputs": [],
   "source": [
    "import Credentials\n",
    "\n",
    "from tweepy import OAuthHandler\n",
    "from tweepy import API\n",
    "\n",
    "from tweepy.streaming import StreamListener\n",
    "from tweepy import Stream"
   ]
  },
  {
   "cell_type": "code",
   "execution_count": 2,
   "metadata": {},
   "outputs": [],
   "source": [
    "class Listener(StreamListener):\n",
    "    \n",
    "    def __init__(self,file_name):\n",
    "        self.file_name= file_name\n",
    "    \n",
    "    def on_data(self,data):\n",
    "        try:\n",
    "            with open(self.file_name,'a') as file:\n",
    "                file.write(data)\n",
    "        except BaseException as e:\n",
    "            print(\"Error on data: %s\"% str(e))\n",
    "\n",
    "    def on_error(self,status_code):\n",
    "        if status_code==402:\n",
    "            print('DATA LIMIT REACHED')\n",
    "        else:\n",
    "            print(status_code)"
   ]
  },
  {
   "cell_type": "code",
   "execution_count": 21,
   "metadata": {},
   "outputs": [],
   "source": [
    "class Scrapper():\n",
    "    \n",
    "    def authenticate(self):\n",
    "        auth= OAuthHandler(Credentials.CONSUMER_KEY,Credentials.CONSUMER_SECRET)\n",
    "        auth.set_access_token(Credentials.ACCESS_TOKEN,Credentials.ACCESS_TOKEN_SECRET)\n",
    "        self.api=API(auth,wait_on_rate_limit=True,wait_on_rate_limit_notify=True)\n",
    "        if (not self.api):\n",
    "            print (\"CAN'T AUTHENTICATE\")\n",
    "            \n",
    "    def set_stream(self,file_name):\n",
    "        listener = Listener(file_name)\n",
    "        self.my_stream = Stream(self.api.auth,listener)\n",
    "    \n",
    "    def stream(self,user_id):\n",
    "        self.my_stream.filter(follow=user_id,is_async=True)"
   ]
  },
  {
   "cell_type": "code",
   "execution_count": 22,
   "metadata": {},
   "outputs": [],
   "source": [
    "scrapper=Scrapper()\n",
    "scrapper.authenticate()"
   ]
  },
  {
   "cell_type": "code",
   "execution_count": 23,
   "metadata": {},
   "outputs": [],
   "source": [
    "file_name = 'data_using_OAuth.json'\n",
    "user_id = ['822215679726100480'] # ID OF POTUS"
   ]
  },
  {
   "cell_type": "code",
   "execution_count": 24,
   "metadata": {},
   "outputs": [],
   "source": [
    "scrapper.set_stream(file_name)\n",
    "scrapper.stream(user_id)\n",
    "# WILL ASYNCHRONOUSLY APPEND DATA TO THE JSON FILE "
   ]
  },
  {
   "cell_type": "code",
   "execution_count": null,
   "metadata": {},
   "outputs": [],
   "source": []
  }
 ],
 "metadata": {
  "kernelspec": {
   "display_name": "Python 3",
   "language": "python",
   "name": "python3"
  },
  "language_info": {
   "codemirror_mode": {
    "name": "ipython",
    "version": 3
   },
   "file_extension": ".py",
   "mimetype": "text/x-python",
   "name": "python",
   "nbconvert_exporter": "python",
   "pygments_lexer": "ipython3",
   "version": "3.7.4"
  }
 },
 "nbformat": 4,
 "nbformat_minor": 2
}
