{
 "cells": [
  {
   "cell_type": "markdown",
   "metadata": {},
   "source": [
    "# Visualizing the tweet data in a tabular format"
   ]
  },
  {
   "cell_type": "code",
   "execution_count": 1,
   "metadata": {},
   "outputs": [],
   "source": [
    "import json\n",
    "import pandas as pd\n",
    "import numpy as np"
   ]
  },
  {
   "cell_type": "code",
   "execution_count": 2,
   "metadata": {},
   "outputs": [],
   "source": [
    "# Opening the JSON file, reading it and storing it in variable data\n",
    "with open('data.json', 'r') as f:\n",
    "    data = json.load(f)\n",
    "    \n",
    "# Lists for data extracted\n",
    "created_at_list=[]  # For created_at date of the tweet\n",
    "full_text_list=[]  # For the full text of the tweet\n",
    "img_num_count_list=[]  # For number of images in the tweet\n",
    "favorite_count_list=[]  # For number of favorites of the tweet\n",
    "retweet_count_list=[]  # For number of retweets of the tweet\n",
    "\n",
    "\n",
    "for i in range(0,len(data)):\n",
    "    count=0\n",
    "    try:\n",
    "        for medium in data[str(i)]['entities']['media']:\n",
    "            if medium['type']=='photo':\n",
    "                count=count+1\n",
    "            img_num_count_list.append(count)\n",
    "    except:\n",
    "        img_num_count_list.append(0)\n",
    "        \n",
    "    created_at_list.append(data[str(i)]['created_at'])\n",
    "    retweet_count_list.append(data[str(i)]['retweet_count'])\n",
    "    favorite_count_list.append(data[str(i)]['retweeted_status']['favorite_count'])\n",
    "    full_text_list.append(data[str(i)]['retweeted_status']['full_text'])"
   ]
  },
  {
   "cell_type": "code",
   "execution_count": 3,
   "metadata": {},
   "outputs": [
    {
     "name": "stdout",
     "output_type": "stream",
     "text": [
      "3246\n",
      "3246\n",
      "3246\n",
      "3246\n",
      "3246\n"
     ]
    }
   ],
   "source": [
    "print(len(img_num_count_list))\n",
    "print(len(retweet_count_list))\n",
    "print(len(favorite_count_list))\n",
    "print(len(full_text_list))\n",
    "print(len(created_at_list))\n",
    "# If all of these lists have the same length(3246) then we have extracted the data sucessfully"
   ]
  },
  {
   "cell_type": "code",
   "execution_count": 4,
   "metadata": {},
   "outputs": [],
   "source": [
    "# Creating a pandas dataframe to create a tabular format of the data\n",
    "\n",
    "data_table = pd.DataFrame(np.column_stack([created_at_list,full_text_list,img_num_count_list,retweet_count_list,favorite_count_list]), \n",
    "                               columns=['Created at', 'Full Text', 'Number Of Images','Number of Retweets','Number Of Favorites'])"
   ]
  },
  {
   "cell_type": "code",
   "execution_count": 5,
   "metadata": {},
   "outputs": [
    {
     "name": "stdout",
     "output_type": "stream",
     "text": [
      "                          Created at  \\\n",
      "0     Wed Mar 25 12:21:18 +0000 2020   \n",
      "1     Wed Mar 25 10:42:24 +0000 2020   \n",
      "2     Wed Mar 25 10:15:49 +0000 2020   \n",
      "3     Tue Mar 24 23:54:28 +0000 2020   \n",
      "4     Tue Mar 24 23:54:02 +0000 2020   \n",
      "...                              ...   \n",
      "3241  Mon Apr 29 12:21:24 +0000 2019   \n",
      "3242  Mon Apr 29 11:02:07 +0000 2019   \n",
      "3243  Sun Apr 28 15:43:58 +0000 2019   \n",
      "3244  Sun Apr 28 13:16:58 +0000 2019   \n",
      "3245  Sat Apr 27 21:47:53 +0000 2019   \n",
      "\n",
      "                                              Full Text Number Of Images  \\\n",
      "0     Gee, that’s too bad. Such a fine guy. Presiden...                0   \n",
      "1     I am working very hard to help New York City &...                0   \n",
      "2     “President Trump’s decision to very early on r...                0   \n",
      "3     The Coronavirus outbreak underscores how criti...                1   \n",
      "4     President @realDonaldTrump provides an update ...                1   \n",
      "...                                                 ...              ...   \n",
      "3241  The NRA is under siege by Cuomo and the New Yo...                0   \n",
      "3242  I spoke at length yesterday to Rabbi Yisroel G...                0   \n",
      "3243  President Trump, First Lady Melania Trump, and...                0   \n",
      "3244  Will be interviewed by @MariaBartiromo on @Fox...                0   \n",
      "3245  We condemn in the strongest terms the evil &am...                0   \n",
      "\n",
      "     Number of Retweets Number Of Favorites  \n",
      "0                  6441               26595  \n",
      "1                 15236               72886  \n",
      "2                  9925               50539  \n",
      "3                  3808               14565  \n",
      "4                  1636                6822  \n",
      "...                 ...                 ...  \n",
      "3241              17969               75477  \n",
      "3242              17776              100873  \n",
      "3243               3810               20989  \n",
      "3244              13318               65310  \n",
      "3245               6895               30741  \n",
      "\n",
      "[3246 rows x 5 columns]\n"
     ]
    }
   ],
   "source": [
    "print(data_table)"
   ]
  },
  {
   "cell_type": "code",
   "execution_count": null,
   "metadata": {},
   "outputs": [],
   "source": []
  }
 ],
 "metadata": {
  "kernelspec": {
   "display_name": "Python 3",
   "language": "python",
   "name": "python3"
  },
  "language_info": {
   "codemirror_mode": {
    "name": "ipython",
    "version": 3
   },
   "file_extension": ".py",
   "mimetype": "text/x-python",
   "name": "python",
   "nbconvert_exporter": "python",
   "pygments_lexer": "ipython3",
   "version": "3.7.4"
  }
 },
 "nbformat": 4,
 "nbformat_minor": 2
}
