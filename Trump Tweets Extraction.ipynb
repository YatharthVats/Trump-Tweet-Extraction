{
 "cells": [
  {
   "cell_type": "markdown",
   "metadata": {},
   "source": [
    "### Trump Tweets Extraction using OldTweets3 Library"
   ]
  },
  {
   "cell_type": "code",
   "execution_count": 1,
   "metadata": {},
   "outputs": [
    {
     "name": "stdout",
     "output_type": "stream",
     "text": [
      "Requirement already satisfied: getoldtweets3 in c:\\users\\yatharth\\anaconda3\\lib\\site-packages (0.0.11)\n",
      "Requirement already satisfied: lxml>=3.5.0 in c:\\users\\yatharth\\anaconda3\\lib\\site-packages (from getoldtweets3) (4.4.1)\n",
      "Requirement already satisfied: pyquery>=1.2.10 in c:\\users\\yatharth\\anaconda3\\lib\\site-packages (from getoldtweets3) (1.4.1)\n",
      "Requirement already satisfied: cssselect>0.7.9 in c:\\users\\yatharth\\anaconda3\\lib\\site-packages (from pyquery>=1.2.10->getoldtweets3) (1.1.0)\n"
     ]
    }
   ],
   "source": [
    "!pip install getoldtweets3"
   ]
  },
  {
   "cell_type": "code",
   "execution_count": 2,
   "metadata": {},
   "outputs": [],
   "source": [
    "import GetOldTweets3 as got\n",
    "import pandas as pd"
   ]
  },
  {
   "cell_type": "code",
   "execution_count": 3,
   "metadata": {},
   "outputs": [],
   "source": [
    "username = 'realDonaldTrump'\n",
    "count = 1000\n",
    "index=0\n",
    "tweetCriteria = got.manager.TweetCriteria().setUsername(username)\\\n",
    "                                            .setMaxTweets(count)\n",
    "    \n",
    "tweets = got.manager.TweetManager.getTweets(tweetCriteria)\n",
    "\n",
    "user_tweets = [[tweet.date, tweet.text,tweet.favorites,tweet.retweets] for tweet in tweets]\n",
    "tweets_df = pd.DataFrame(user_tweets, columns = ['Datetime', 'Text','Number of Favorites','Number of Retweets'])"
   ]
  },
  {
   "cell_type": "code",
   "execution_count": 4,
   "metadata": {},
   "outputs": [
    {
     "name": "stdout",
     "output_type": "stream",
     "text": [
      "                     Datetime  \\\n",
      "0   2020-03-22 19:50:52+00:00   \n",
      "1   2020-03-22 17:32:30+00:00   \n",
      "2   2020-03-22 16:14:59+00:00   \n",
      "3   2020-03-22 14:52:09+00:00   \n",
      "4   2020-03-22 14:49:27+00:00   \n",
      "..                        ...   \n",
      "995 2020-01-10 15:37:36+00:00   \n",
      "996 2020-01-10 15:31:27+00:00   \n",
      "997 2020-01-10 15:11:46+00:00   \n",
      "998 2020-01-10 15:08:14+00:00   \n",
      "999 2020-01-10 13:39:42+00:00   \n",
      "\n",
      "                                                  Text  Number of Favorites  \\\n",
      "0    Will be having a News Conference from our beau...                32073   \n",
      "1    The hard working men and women of @UPS are wor...               101306   \n",
      "2    .@JBPritzker, Governor of Illinois, and a very...                73560   \n",
      "3    Working very well with States and our Nation’s...                71183   \n",
      "4    Thank you to Fred Smith and @FedEx for the rap...                73201   \n",
      "..                                                 ...                  ...   \n",
      "995  She will go down as perhaps the least successf...               119042   \n",
      "996   I love constantly proving them wrong. It’s easy!                77260   \n",
      "997  “I’ve been doing this for 40 years and I’ve ne...                85654   \n",
      "998  “11,000 points gained in the Dow in the 3 year...               140635   \n",
      "999        We will get this done for our great Miners!                60223   \n",
      "\n",
      "     Number of Retweets  \n",
      "0                  8411  \n",
      "1                 18092  \n",
      "2                 18711  \n",
      "3                 12803  \n",
      "4                 14551  \n",
      "..                  ...  \n",
      "995               24066  \n",
      "996               17767  \n",
      "997               16534  \n",
      "998               29526  \n",
      "999               13548  \n",
      "\n",
      "[1000 rows x 4 columns]\n"
     ]
    }
   ],
   "source": [
    "print(tweets_df)"
   ]
  },
  {
   "cell_type": "code",
   "execution_count": 5,
   "metadata": {},
   "outputs": [
    {
     "name": "stdout",
     "output_type": "stream",
     "text": [
      "(1000, 4)\n"
     ]
    }
   ],
   "source": [
    "print(tweets_df.shape)"
   ]
  },
  {
   "cell_type": "code",
   "execution_count": 6,
   "metadata": {},
   "outputs": [
    {
     "name": "stdout",
     "output_type": "stream",
     "text": [
      "1000\n"
     ]
    }
   ],
   "source": [
    "user_tweets_dict={i:user_tweets[i] for i in range(0,len(user_tweets))}\n",
    "print(len(user_tweets_dict))\n",
    "import json\n",
    "with open('data.json', 'w', encoding='utf-8') as f:\n",
    "    json.dump(user_tweets_dict, f, ensure_ascii=False, indent=4, default=str)"
   ]
  },
  {
   "cell_type": "code",
   "execution_count": 7,
   "metadata": {},
   "outputs": [],
   "source": [
    "with open('data.json', 'r',encoding='utf-8') as f:\n",
    "    data = json.load(f)\n",
    "\n",
    "# converting json dataset from dictionary to dataframe\n",
    "train = pd.DataFrame.from_dict(data, orient='index',columns = ['Datetime', 'Text','Number of Favorites','Number of Retweets'])"
   ]
  },
  {
   "cell_type": "code",
   "execution_count": 8,
   "metadata": {},
   "outputs": [
    {
     "name": "stdout",
     "output_type": "stream",
     "text": [
      "                      Datetime  \\\n",
      "0    2020-03-22 19:50:52+00:00   \n",
      "1    2020-03-22 17:32:30+00:00   \n",
      "2    2020-03-22 16:14:59+00:00   \n",
      "3    2020-03-22 14:52:09+00:00   \n",
      "4    2020-03-22 14:49:27+00:00   \n",
      "..                         ...   \n",
      "995  2020-01-10 15:37:36+00:00   \n",
      "996  2020-01-10 15:31:27+00:00   \n",
      "997  2020-01-10 15:11:46+00:00   \n",
      "998  2020-01-10 15:08:14+00:00   \n",
      "999  2020-01-10 13:39:42+00:00   \n",
      "\n",
      "                                                  Text  Number of Favorites  \\\n",
      "0    Will be having a News Conference from our beau...                32073   \n",
      "1    The hard working men and women of @UPS are wor...               101306   \n",
      "2    .@JBPritzker, Governor of Illinois, and a very...                73560   \n",
      "3    Working very well with States and our Nation’s...                71183   \n",
      "4    Thank you to Fred Smith and @FedEx for the rap...                73201   \n",
      "..                                                 ...                  ...   \n",
      "995  She will go down as perhaps the least successf...               119042   \n",
      "996   I love constantly proving them wrong. It’s easy!                77260   \n",
      "997  “I’ve been doing this for 40 years and I’ve ne...                85654   \n",
      "998  “11,000 points gained in the Dow in the 3 year...               140635   \n",
      "999        We will get this done for our great Miners!                60223   \n",
      "\n",
      "     Number of Retweets  \n",
      "0                  8411  \n",
      "1                 18092  \n",
      "2                 18711  \n",
      "3                 12803  \n",
      "4                 14551  \n",
      "..                  ...  \n",
      "995               24066  \n",
      "996               17767  \n",
      "997               16534  \n",
      "998               29526  \n",
      "999               13548  \n",
      "\n",
      "[1000 rows x 4 columns]\n"
     ]
    }
   ],
   "source": [
    "print(train)"
   ]
  },
  {
   "cell_type": "code",
   "execution_count": null,
   "metadata": {},
   "outputs": [],
   "source": []
  }
 ],
 "metadata": {
  "kernelspec": {
   "display_name": "Python 3",
   "language": "python",
   "name": "python3"
  },
  "language_info": {
   "codemirror_mode": {
    "name": "ipython",
    "version": 3
   },
   "file_extension": ".py",
   "mimetype": "text/x-python",
   "name": "python",
   "nbconvert_exporter": "python",
   "pygments_lexer": "ipython3",
   "version": "3.7.4"
  }
 },
 "nbformat": 4,
 "nbformat_minor": 2
}
